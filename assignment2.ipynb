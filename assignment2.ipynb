{
 "cells": [
  {
   "cell_type": "code",
   "execution_count": 47,
   "metadata": {},
   "outputs": [
    {
     "name": "stdout",
     "output_type": "stream",
     "text": [
      "  \n",
      "*  \n",
      "**  \n",
      "***  \n",
      "****  \n",
      "*****  \n",
      "****  \n",
      "***  \n",
      "**  \n",
      "*  \n"
     ]
    }
   ],
   "source": [
    "def Ptrn(x):\n",
    "    a=x\n",
    "    for i in range(x):\n",
    "        print('*'* i,end=' ')\n",
    "        print(\" \")\n",
    "    for i in range (x, 0, -1):\n",
    "        print('*'*i,end=' ')\n",
    "        print(\" \")\n",
    "Ptrn(5)\n",
    "    "
   ]
  },
  {
   "cell_type": "code",
   "execution_count": 46,
   "metadata": {},
   "outputs": [
    {
     "name": "stdout",
     "output_type": "stream",
     "text": [
      "* \r\n",
      "* * \r\n",
      "* * * \r\n",
      "* * * * \r\n",
      "* * * * * \r\n",
      "* * * * * * \r\n",
      "* * * * * \r\n",
      "* * * * \r\n",
      "* * * \r\n",
      "* * \r\n",
      "* \r\n",
      "\r\n"
     ]
    }
   ],
   "source": [
    "def ptrn(rows):\n",
    "    for i in range(0, rows):\n",
    "        for j in range(0, i+1):\n",
    "            print(\"*\", end=' ')\n",
    "        print(\"\\r\")\n",
    "\n",
    "    for i in range(rows, 0, -1):\n",
    "        for j in range(0, i-1):\n",
    "            print(\"*\", end=' ')\n",
    "        print(\"\\r\")\n",
    "        \n",
    "ptrn(6)"
   ]
  },
  {
   "cell_type": "code",
   "execution_count": 49,
   "metadata": {},
   "outputs": [
    {
     "name": "stdout",
     "output_type": "stream",
     "text": [
      "mounikakannan\n",
      "nannakakinuom\n"
     ]
    }
   ],
   "source": [
    "x=input()\n",
    "def rvse(x):\n",
    "    print(x[::-1])\n",
    "rvse(x)"
   ]
  }
 ],
 "metadata": {
  "kernelspec": {
   "display_name": "Python 3",
   "language": "python",
   "name": "python3"
  },
  "language_info": {
   "codemirror_mode": {
    "name": "ipython",
    "version": 3
   },
   "file_extension": ".py",
   "mimetype": "text/x-python",
   "name": "python",
   "nbconvert_exporter": "python",
   "pygments_lexer": "ipython3",
   "version": "3.7.7"
  }
 },
 "nbformat": 4,
 "nbformat_minor": 4
}
