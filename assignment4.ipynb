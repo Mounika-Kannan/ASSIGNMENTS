{
 "cells": [
  {
   "cell_type": "code",
   "execution_count": 1,
   "metadata": {},
   "outputs": [
    {
     "name": "stdout",
     "output_type": "stream",
     "text": [
      "enter length: 12\n",
      "enter breath: 12\n",
      "enter height: 12\n",
      "62.353829072479584\n"
     ]
    }
   ],
   "source": [
    "class triangle:\n",
    "    \n",
    "    def __init__(self):\n",
    "        self.length=float(input(\"enter length: \"))\n",
    "        self.breath=float(input(\"enter breath: \"))\n",
    "        self.height=float(input(\"enter height: \"))\n",
    "    \n",
    "class area(triangle):\n",
    "    \n",
    "    def __init__(self):\n",
    "        triangle.__init__(self)\n",
    "        \n",
    "    def triarea(self):\n",
    "        a=self.length\n",
    "        b=self.breath\n",
    "        c=self.height\n",
    "        s=((a+b+c)/2)\n",
    "        a=((s-a)*(s-b)*(s-c)*(s))**0.5\n",
    "        print(a)\n",
    "    \n",
    "        \n",
    "        \n",
    "\n",
    "y=area()\n",
    "y.triarea()  "
   ]
  },
  {
   "cell_type": "code",
   "execution_count": 2,
   "metadata": {},
   "outputs": [
    {
     "name": "stdout",
     "output_type": "stream",
     "text": [
      "['hello', 'varshini', 'mounika']\n"
     ]
    }
   ],
   "source": [
    "li=['hello','varshini','mounika','it','was']\n",
    "def filter_long_words(li,n):\n",
    "    a=[]\n",
    "    for i in li:\n",
    "        if (len(i)>=n):\n",
    "            a.append(i)\n",
    "    return a\n",
    "             \n",
    "z=filter_long_words(li,5)\n",
    "print(z)"
   ]
  },
  {
   "cell_type": "code",
   "execution_count": 3,
   "metadata": {},
   "outputs": [
    {
     "name": "stdout",
     "output_type": "stream",
     "text": [
      "[5, 8, 7, 2, 3]\n"
     ]
    }
   ],
   "source": [
    "def word_len(li):\n",
    "    a=[]\n",
    "    for i in li:\n",
    "        n=len(i)\n",
    "        a.append(n)\n",
    "    return a\n",
    "c=word_len(li)\n",
    "print(c)"
   ]
  },
  {
   "cell_type": "code",
   "execution_count": 4,
   "metadata": {},
   "outputs": [
    {
     "name": "stdout",
     "output_type": "stream",
     "text": [
      "a\n"
     ]
    },
    {
     "data": {
      "text/plain": [
       "True"
      ]
     },
     "execution_count": 4,
     "metadata": {},
     "output_type": "execute_result"
    }
   ],
   "source": [
    "def isvow(s):\n",
    "    if(s in ('a','e','i','o','u','A','E','I','O','U')):\n",
    "        return True\n",
    "    else:\n",
    "        return False\n",
    "        \n",
    "s=input()\n",
    "isvow(s)"
   ]
  },
  {
   "cell_type": "code",
   "execution_count": null,
   "metadata": {},
   "outputs": [],
   "source": []
  }
 ],
 "metadata": {
  "kernelspec": {
   "display_name": "Python 3",
   "language": "python",
   "name": "python3"
  },
  "language_info": {
   "codemirror_mode": {
    "name": "ipython",
    "version": 3
   },
   "file_extension": ".py",
   "mimetype": "text/x-python",
   "name": "python",
   "nbconvert_exporter": "python",
   "pygments_lexer": "ipython3",
   "version": "3.7.7"
  }
 },
 "nbformat": 4,
 "nbformat_minor": 4
}
